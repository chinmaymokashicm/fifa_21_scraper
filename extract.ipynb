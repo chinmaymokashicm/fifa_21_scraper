{
 "metadata": {
  "language_info": {
   "codemirror_mode": {
    "name": "ipython",
    "version": 3
   },
   "file_extension": ".py",
   "mimetype": "text/x-python",
   "name": "python",
   "nbconvert_exporter": "python",
   "pygments_lexer": "ipython3",
   "version": "3.8.5"
  },
  "orig_nbformat": 4,
  "kernelspec": {
   "name": "crawler",
   "display_name": "crawler",
   "language": "python"
  },
  "interpreter": {
   "hash": "31f2aee4e71d21fbe5cf8b01ff0e069b9275f58929596ceb00d14d90e3e16cd6"
  }
 },
 "nbformat": 4,
 "nbformat_minor": 2,
 "cells": [
  {
   "cell_type": "code",
   "execution_count": 1,
   "metadata": {},
   "outputs": [],
   "source": [
    "from modules.team import Team\n",
    "from modules.player import Player"
   ]
  },
  {
   "cell_type": "code",
   "execution_count": 2,
   "metadata": {},
   "outputs": [],
   "source": [
    "team_obj = Team()\n",
    "player_obj = Player()"
   ]
  },
  {
   "cell_type": "code",
   "execution_count": 3,
   "metadata": {},
   "outputs": [
    {
     "output_type": "stream",
     "name": "stdout",
     "text": [
      "Going to https://sofifa.com/teams?type=club&offset=60\n",
      "Going to https://sofifa.com/teams?type=club&offset=120\n",
      "Going to https://sofifa.com/teams?type=club&offset=180\n",
      "Going to https://sofifa.com/teams?type=club&offset=240\n",
      "Going to https://sofifa.com/teams?type=club&offset=300\n",
      "Going to https://sofifa.com/teams?type=club&offset=360\n",
      "Going to https://sofifa.com/teams?type=club&offset=420\n",
      "Going to https://sofifa.com/teams?type=club&offset=480\n",
      "Going to https://sofifa.com/teams?type=club&offset=540\n",
      "Going to https://sofifa.com/teams?type=club&offset=600\n",
      "Going to https://sofifa.com/teams?type=club&offset=660\n"
     ]
    }
   ],
   "source": [
    "team_obj.get_team_urls()"
   ]
  },
  {
   "cell_type": "code",
   "execution_count": null,
   "metadata": {},
   "outputs": [],
   "source": []
  }
 ]
}