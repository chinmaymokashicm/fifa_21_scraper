{
 "metadata": {
  "language_info": {
   "codemirror_mode": {
    "name": "ipython",
    "version": 3
   },
   "file_extension": ".py",
   "mimetype": "text/x-python",
   "name": "python",
   "nbconvert_exporter": "python",
   "pygments_lexer": "ipython3",
   "version": "3.8.5"
  },
  "orig_nbformat": 4,
  "kernelspec": {
   "name": "python3",
   "display_name": "Python 3.8.5  ('mycrawler': venv)"
  },
  "interpreter": {
   "hash": "4b4d5ae35676fbcd721466307240807e18e0c92db5d68302167c507f03daac5f"
  }
 },
 "nbformat": 4,
 "nbformat_minor": 2,
 "cells": [
  {
   "cell_type": "code",
   "execution_count": 57,
   "metadata": {},
   "outputs": [],
   "source": [
    "from modules.player import Player\n",
    "\n",
    "import pandas as pd\n",
    "import mysql.connector"
   ]
  },
  {
   "cell_type": "code",
   "execution_count": 58,
   "metadata": {},
   "outputs": [
    {
     "output_type": "stream",
     "name": "stdout",
     "text": [
      "Connected to MySQL!\n"
     ]
    }
   ],
   "source": [
    "player_obj = Player()"
   ]
  },
  {
   "cell_type": "code",
   "execution_count": 59,
   "metadata": {},
   "outputs": [],
   "source": [
    "query = f\"SELECT * from {player_obj.mysql_table};\"\n",
    "df = pd.read_sql(query, player_obj.connection)"
   ]
  },
  {
   "cell_type": "code",
   "execution_count": 60,
   "metadata": {},
   "outputs": [
    {
     "output_type": "execute_result",
     "data": {
      "text/plain": [
       "                                         team_url  \\\n",
       "0        https://sofifa.com/team/485/hannover-96/   \n",
       "1          https://sofifa.com/team/110741/spezia/   \n",
       "2         https://sofifa.com/team/166/hertha-bsc/   \n",
       "3  https://sofifa.com/team/232/standard-de-liege/   \n",
       "4    https://sofifa.com/team/1871/legia-warszawa/   \n",
       "\n",
       "                                          player_url                     name  \\\n",
       "0  https://sofifa.com/player/101317/michael-rataj...        Michael Ratajczak   \n",
       "1  https://sofifa.com/player/102064/claudio-terzi...            Claudio Terzi   \n",
       "2  https://sofifa.com/player/104389/rune-almennin...  Rune Almenning Jarstein   \n",
       "3  https://sofifa.com/player/105308/jean-francois...     Jean-François Gillet   \n",
       "4  https://sofifa.com/player/105846/artur-boruc/2...              Artur Boruc   \n",
       "\n",
       "  position info_other rating_overall rating_potential preferred_foot  \\\n",
       "0       GK       None             63               63          Right   \n",
       "1       CB       None             68               68          Right   \n",
       "2       GK       None             77               77          Right   \n",
       "3       GK       None             64               64           Left   \n",
       "4       GK       None             70               70          Right   \n",
       "\n",
       "  weak_foot skill_moves  ... composure defensive_awareness standing_tackle  \\\n",
       "0         3           1  ...        40                  16              11   \n",
       "1         3           2  ...        67                  70              70   \n",
       "2         4           1  ...        50                  38              41   \n",
       "3         2           1  ...        60                  23              14   \n",
       "4         3           1  ...        63                  15              20   \n",
       "\n",
       "  sliding_tackle gk_diving gk_handling gk_kicking gk_positioning gk_reflexes  \\\n",
       "0             11        62          64         35             64          64   \n",
       "1             69        13          11         10             12           8   \n",
       "2             37         9           8         10             10          15   \n",
       "3             12        58          67         68             72          61   \n",
       "4             20        71          65         66             70          71   \n",
       "\n",
       "                               traits  \n",
       "0  Best Position, Best Overall Rating  \n",
       "1  Best Position, Best Overall Rating  \n",
       "2                   Comes For Crosses  \n",
       "3                                      \n",
       "4                                      \n",
       "\n",
       "[5 rows x 49 columns]"
      ],
      "text/html": "<div>\n<style scoped>\n    .dataframe tbody tr th:only-of-type {\n        vertical-align: middle;\n    }\n\n    .dataframe tbody tr th {\n        vertical-align: top;\n    }\n\n    .dataframe thead th {\n        text-align: right;\n    }\n</style>\n<table border=\"1\" class=\"dataframe\">\n  <thead>\n    <tr style=\"text-align: right;\">\n      <th></th>\n      <th>team_url</th>\n      <th>player_url</th>\n      <th>name</th>\n      <th>position</th>\n      <th>info_other</th>\n      <th>rating_overall</th>\n      <th>rating_potential</th>\n      <th>preferred_foot</th>\n      <th>weak_foot</th>\n      <th>skill_moves</th>\n      <th>...</th>\n      <th>composure</th>\n      <th>defensive_awareness</th>\n      <th>standing_tackle</th>\n      <th>sliding_tackle</th>\n      <th>gk_diving</th>\n      <th>gk_handling</th>\n      <th>gk_kicking</th>\n      <th>gk_positioning</th>\n      <th>gk_reflexes</th>\n      <th>traits</th>\n    </tr>\n  </thead>\n  <tbody>\n    <tr>\n      <th>0</th>\n      <td>https://sofifa.com/team/485/hannover-96/</td>\n      <td>https://sofifa.com/player/101317/michael-rataj...</td>\n      <td>Michael Ratajczak</td>\n      <td>GK</td>\n      <td>None</td>\n      <td>63</td>\n      <td>63</td>\n      <td>Right</td>\n      <td>3</td>\n      <td>1</td>\n      <td>...</td>\n      <td>40</td>\n      <td>16</td>\n      <td>11</td>\n      <td>11</td>\n      <td>62</td>\n      <td>64</td>\n      <td>35</td>\n      <td>64</td>\n      <td>64</td>\n      <td>Best Position, Best Overall Rating</td>\n    </tr>\n    <tr>\n      <th>1</th>\n      <td>https://sofifa.com/team/110741/spezia/</td>\n      <td>https://sofifa.com/player/102064/claudio-terzi...</td>\n      <td>Claudio Terzi</td>\n      <td>CB</td>\n      <td>None</td>\n      <td>68</td>\n      <td>68</td>\n      <td>Right</td>\n      <td>3</td>\n      <td>2</td>\n      <td>...</td>\n      <td>67</td>\n      <td>70</td>\n      <td>70</td>\n      <td>69</td>\n      <td>13</td>\n      <td>11</td>\n      <td>10</td>\n      <td>12</td>\n      <td>8</td>\n      <td>Best Position, Best Overall Rating</td>\n    </tr>\n    <tr>\n      <th>2</th>\n      <td>https://sofifa.com/team/166/hertha-bsc/</td>\n      <td>https://sofifa.com/player/104389/rune-almennin...</td>\n      <td>Rune Almenning Jarstein</td>\n      <td>GK</td>\n      <td>None</td>\n      <td>77</td>\n      <td>77</td>\n      <td>Right</td>\n      <td>4</td>\n      <td>1</td>\n      <td>...</td>\n      <td>50</td>\n      <td>38</td>\n      <td>41</td>\n      <td>37</td>\n      <td>9</td>\n      <td>8</td>\n      <td>10</td>\n      <td>10</td>\n      <td>15</td>\n      <td>Comes For Crosses</td>\n    </tr>\n    <tr>\n      <th>3</th>\n      <td>https://sofifa.com/team/232/standard-de-liege/</td>\n      <td>https://sofifa.com/player/105308/jean-francois...</td>\n      <td>Jean-François Gillet</td>\n      <td>GK</td>\n      <td>None</td>\n      <td>64</td>\n      <td>64</td>\n      <td>Left</td>\n      <td>2</td>\n      <td>1</td>\n      <td>...</td>\n      <td>60</td>\n      <td>23</td>\n      <td>14</td>\n      <td>12</td>\n      <td>58</td>\n      <td>67</td>\n      <td>68</td>\n      <td>72</td>\n      <td>61</td>\n      <td></td>\n    </tr>\n    <tr>\n      <th>4</th>\n      <td>https://sofifa.com/team/1871/legia-warszawa/</td>\n      <td>https://sofifa.com/player/105846/artur-boruc/2...</td>\n      <td>Artur Boruc</td>\n      <td>GK</td>\n      <td>None</td>\n      <td>70</td>\n      <td>70</td>\n      <td>Right</td>\n      <td>3</td>\n      <td>1</td>\n      <td>...</td>\n      <td>63</td>\n      <td>15</td>\n      <td>20</td>\n      <td>20</td>\n      <td>71</td>\n      <td>65</td>\n      <td>66</td>\n      <td>70</td>\n      <td>71</td>\n      <td></td>\n    </tr>\n  </tbody>\n</table>\n<p>5 rows × 49 columns</p>\n</div>"
     },
     "metadata": {},
     "execution_count": 60
    }
   ],
   "source": [
    "df.head()"
   ]
  },
  {
   "cell_type": "code",
   "execution_count": 61,
   "metadata": {},
   "outputs": [
    {
     "output_type": "execute_result",
     "data": {
      "text/plain": [
       "Index(['team_url', 'player_url', 'name', 'position', 'info_other',\n",
       "       'rating_overall', 'rating_potential', 'preferred_foot', 'weak_foot',\n",
       "       'skill_moves', 'attacking_work_rate', 'defensive_work_rate',\n",
       "       'player_id', 'specialities', 'crossing', 'finishing',\n",
       "       'heading_accuracy', 'short_passing', 'volleys', 'dribbling', 'curve',\n",
       "       'fk_accuracy', 'long_passing', 'ball_control', 'acceleration',\n",
       "       'sprint_speed', 'agility', 'reactions', 'balance', 'shot_power',\n",
       "       'jumping', 'stamina', 'strength', 'long_shots', 'aggression',\n",
       "       'interceptions', 'positioning', 'vision', 'penalties', 'composure',\n",
       "       'defensive_awareness', 'standing_tackle', 'sliding_tackle', 'gk_diving',\n",
       "       'gk_handling', 'gk_kicking', 'gk_positioning', 'gk_reflexes', 'traits'],\n",
       "      dtype='object')"
      ]
     },
     "metadata": {},
     "execution_count": 61
    }
   ],
   "source": [
    "df.columns"
   ]
  },
  {
   "cell_type": "code",
   "execution_count": 62,
   "metadata": {},
   "outputs": [
    {
     "output_type": "execute_result",
     "data": {
      "text/plain": [
       "                                         team_url  \\\n",
       "0        https://sofifa.com/team/485/hannover-96/   \n",
       "1          https://sofifa.com/team/110741/spezia/   \n",
       "2         https://sofifa.com/team/166/hertha-bsc/   \n",
       "3  https://sofifa.com/team/232/standard-de-liege/   \n",
       "4    https://sofifa.com/team/1871/legia-warszawa/   \n",
       "\n",
       "                                          player_url                     name  \\\n",
       "0  https://sofifa.com/player/101317/michael-rataj...        Michael Ratajczak   \n",
       "1  https://sofifa.com/player/102064/claudio-terzi...            Claudio Terzi   \n",
       "2  https://sofifa.com/player/104389/rune-almennin...  Rune Almenning Jarstein   \n",
       "3  https://sofifa.com/player/105308/jean-francois...     Jean-François Gillet   \n",
       "4  https://sofifa.com/player/105846/artur-boruc/2...              Artur Boruc   \n",
       "\n",
       "  position info_other  rating_overall  rating_potential preferred_foot  \\\n",
       "0       GK       None              63                63          Right   \n",
       "1       CB       None              68                68          Right   \n",
       "2       GK       None              77                77          Right   \n",
       "3       GK       None              64                64           Left   \n",
       "4       GK       None              70                70          Right   \n",
       "\n",
       "  weak_foot skill_moves  ... composure defensive_awareness standing_tackle  \\\n",
       "0         3           1  ...        40                  16              11   \n",
       "1         3           2  ...        67                  70              70   \n",
       "2         4           1  ...        50                  38              41   \n",
       "3         2           1  ...        60                  23              14   \n",
       "4         3           1  ...        63                  15              20   \n",
       "\n",
       "  sliding_tackle  gk_diving  gk_handling  gk_kicking  gk_positioning  \\\n",
       "0             11         62           64          35              64   \n",
       "1             69         13           11          10              12   \n",
       "2             37          9            8          10              10   \n",
       "3             12         58           67          68              72   \n",
       "4             20         71           65          66              70   \n",
       "\n",
       "   gk_reflexes                              traits  \n",
       "0           64  Best Position, Best Overall Rating  \n",
       "1            8  Best Position, Best Overall Rating  \n",
       "2           15                   Comes For Crosses  \n",
       "3           61                                      \n",
       "4           71                                      \n",
       "\n",
       "[5 rows x 49 columns]"
      ],
      "text/html": "<div>\n<style scoped>\n    .dataframe tbody tr th:only-of-type {\n        vertical-align: middle;\n    }\n\n    .dataframe tbody tr th {\n        vertical-align: top;\n    }\n\n    .dataframe thead th {\n        text-align: right;\n    }\n</style>\n<table border=\"1\" class=\"dataframe\">\n  <thead>\n    <tr style=\"text-align: right;\">\n      <th></th>\n      <th>team_url</th>\n      <th>player_url</th>\n      <th>name</th>\n      <th>position</th>\n      <th>info_other</th>\n      <th>rating_overall</th>\n      <th>rating_potential</th>\n      <th>preferred_foot</th>\n      <th>weak_foot</th>\n      <th>skill_moves</th>\n      <th>...</th>\n      <th>composure</th>\n      <th>defensive_awareness</th>\n      <th>standing_tackle</th>\n      <th>sliding_tackle</th>\n      <th>gk_diving</th>\n      <th>gk_handling</th>\n      <th>gk_kicking</th>\n      <th>gk_positioning</th>\n      <th>gk_reflexes</th>\n      <th>traits</th>\n    </tr>\n  </thead>\n  <tbody>\n    <tr>\n      <th>0</th>\n      <td>https://sofifa.com/team/485/hannover-96/</td>\n      <td>https://sofifa.com/player/101317/michael-rataj...</td>\n      <td>Michael Ratajczak</td>\n      <td>GK</td>\n      <td>None</td>\n      <td>63</td>\n      <td>63</td>\n      <td>Right</td>\n      <td>3</td>\n      <td>1</td>\n      <td>...</td>\n      <td>40</td>\n      <td>16</td>\n      <td>11</td>\n      <td>11</td>\n      <td>62</td>\n      <td>64</td>\n      <td>35</td>\n      <td>64</td>\n      <td>64</td>\n      <td>Best Position, Best Overall Rating</td>\n    </tr>\n    <tr>\n      <th>1</th>\n      <td>https://sofifa.com/team/110741/spezia/</td>\n      <td>https://sofifa.com/player/102064/claudio-terzi...</td>\n      <td>Claudio Terzi</td>\n      <td>CB</td>\n      <td>None</td>\n      <td>68</td>\n      <td>68</td>\n      <td>Right</td>\n      <td>3</td>\n      <td>2</td>\n      <td>...</td>\n      <td>67</td>\n      <td>70</td>\n      <td>70</td>\n      <td>69</td>\n      <td>13</td>\n      <td>11</td>\n      <td>10</td>\n      <td>12</td>\n      <td>8</td>\n      <td>Best Position, Best Overall Rating</td>\n    </tr>\n    <tr>\n      <th>2</th>\n      <td>https://sofifa.com/team/166/hertha-bsc/</td>\n      <td>https://sofifa.com/player/104389/rune-almennin...</td>\n      <td>Rune Almenning Jarstein</td>\n      <td>GK</td>\n      <td>None</td>\n      <td>77</td>\n      <td>77</td>\n      <td>Right</td>\n      <td>4</td>\n      <td>1</td>\n      <td>...</td>\n      <td>50</td>\n      <td>38</td>\n      <td>41</td>\n      <td>37</td>\n      <td>9</td>\n      <td>8</td>\n      <td>10</td>\n      <td>10</td>\n      <td>15</td>\n      <td>Comes For Crosses</td>\n    </tr>\n    <tr>\n      <th>3</th>\n      <td>https://sofifa.com/team/232/standard-de-liege/</td>\n      <td>https://sofifa.com/player/105308/jean-francois...</td>\n      <td>Jean-François Gillet</td>\n      <td>GK</td>\n      <td>None</td>\n      <td>64</td>\n      <td>64</td>\n      <td>Left</td>\n      <td>2</td>\n      <td>1</td>\n      <td>...</td>\n      <td>60</td>\n      <td>23</td>\n      <td>14</td>\n      <td>12</td>\n      <td>58</td>\n      <td>67</td>\n      <td>68</td>\n      <td>72</td>\n      <td>61</td>\n      <td></td>\n    </tr>\n    <tr>\n      <th>4</th>\n      <td>https://sofifa.com/team/1871/legia-warszawa/</td>\n      <td>https://sofifa.com/player/105846/artur-boruc/2...</td>\n      <td>Artur Boruc</td>\n      <td>GK</td>\n      <td>None</td>\n      <td>70</td>\n      <td>70</td>\n      <td>Right</td>\n      <td>3</td>\n      <td>1</td>\n      <td>...</td>\n      <td>63</td>\n      <td>15</td>\n      <td>20</td>\n      <td>20</td>\n      <td>71</td>\n      <td>65</td>\n      <td>66</td>\n      <td>70</td>\n      <td>71</td>\n      <td></td>\n    </tr>\n  </tbody>\n</table>\n<p>5 rows × 49 columns</p>\n</div>"
     },
     "metadata": {},
     "execution_count": 62
    }
   ],
   "source": [
    "list_numeric_colums = [\"rating_overall\",\"rating_potential\",\"crossing\",\"finishing\",\"heading_accuracy\",\"short_passing\",\"volleys\",\"dribbling\",\"curve\",\"fk_accuracy\",\"long_passing\",\"ball_control\",\"acceleration\",\"sprint_speed\",\"agility\",\"reactions\",\"balance\",\"shot_power\",\"jumping\",\"stamina\",\"strength\",\"long_shots\",\"aggression\",\"interceptions\",\"positioning\",\"vision\",\"penalties\",\"composure\",\"defensive_awareness\",\"standing_tackle\",\"sliding_tackle\",\"gk_diving\",\"gk_handling\",\"gk_kicking\",\"gk_positioning\",\"gk_reflexes\"]\n",
    "df[list_numeric_colums] = df[list_numeric_colums].apply(pd.to_numeric)\n",
    "df.head()"
   ]
  },
  {
   "cell_type": "code",
   "execution_count": 63,
   "metadata": {},
   "outputs": [
    {
     "output_type": "execute_result",
     "data": {
      "text/plain": [
       "                             name position  rating_overall\n",
       "237   Carlos Alberto Vela Garrido       RW              83\n",
       "323             Gareth Frank Bale       RM              82\n",
       "620              Sofiane Feghouli       RM              78\n",
       "625     José María Callejón Bueno       RM              81\n",
       "738         Lautaro Germán Acosta       LW              76\n",
       "...                           ...      ...             ...\n",
       "5713            Cody Mathès Gakpo       LM              78\n",
       "5952             Viktor Tsygankov       RM              80\n",
       "6265                  Bukayo Saka       RM              79\n",
       "6377             Dejan Kulusevski       RW              78\n",
       "6908           Amad Diallo Traoré       RM              66\n",
       "\n",
       "[63 rows x 3 columns]"
      ],
      "text/html": "<div>\n<style scoped>\n    .dataframe tbody tr th:only-of-type {\n        vertical-align: middle;\n    }\n\n    .dataframe tbody tr th {\n        vertical-align: top;\n    }\n\n    .dataframe thead th {\n        text-align: right;\n    }\n</style>\n<table border=\"1\" class=\"dataframe\">\n  <thead>\n    <tr style=\"text-align: right;\">\n      <th></th>\n      <th>name</th>\n      <th>position</th>\n      <th>rating_overall</th>\n    </tr>\n  </thead>\n  <tbody>\n    <tr>\n      <th>237</th>\n      <td>Carlos Alberto Vela Garrido</td>\n      <td>RW</td>\n      <td>83</td>\n    </tr>\n    <tr>\n      <th>323</th>\n      <td>Gareth Frank Bale</td>\n      <td>RM</td>\n      <td>82</td>\n    </tr>\n    <tr>\n      <th>620</th>\n      <td>Sofiane Feghouli</td>\n      <td>RM</td>\n      <td>78</td>\n    </tr>\n    <tr>\n      <th>625</th>\n      <td>José María Callejón Bueno</td>\n      <td>RM</td>\n      <td>81</td>\n    </tr>\n    <tr>\n      <th>738</th>\n      <td>Lautaro Germán Acosta</td>\n      <td>LW</td>\n      <td>76</td>\n    </tr>\n    <tr>\n      <th>...</th>\n      <td>...</td>\n      <td>...</td>\n      <td>...</td>\n    </tr>\n    <tr>\n      <th>5713</th>\n      <td>Cody Mathès Gakpo</td>\n      <td>LM</td>\n      <td>78</td>\n    </tr>\n    <tr>\n      <th>5952</th>\n      <td>Viktor Tsygankov</td>\n      <td>RM</td>\n      <td>80</td>\n    </tr>\n    <tr>\n      <th>6265</th>\n      <td>Bukayo Saka</td>\n      <td>RM</td>\n      <td>79</td>\n    </tr>\n    <tr>\n      <th>6377</th>\n      <td>Dejan Kulusevski</td>\n      <td>RW</td>\n      <td>78</td>\n    </tr>\n    <tr>\n      <th>6908</th>\n      <td>Amad Diallo Traoré</td>\n      <td>RM</td>\n      <td>66</td>\n    </tr>\n  </tbody>\n</table>\n<p>63 rows × 3 columns</p>\n</div>"
     },
     "metadata": {},
     "execution_count": 63
    }
   ],
   "source": [
    "list_positions = [\"LW\", \"RW\", \"ST\", \"CF\", \"LM\", \"RM\"]\n",
    "rating_overall = 50\n",
    "acceleration = 80\n",
    "sprint_speed = 80\n",
    "crossing = 75\n",
    "ball_control = 75\n",
    "condition = (df.position.isin(list_positions)) & (df.rating_overall >= rating_overall) & (df.acceleration >= acceleration) & (df.sprint_speed >= sprint_speed) & (df.crossing >= crossing) & (df.ball_control >= ball_control)\n",
    "df[condition][[\"name\",\"position\", \"rating_overall\"]]"
   ]
  },
  {
   "cell_type": "code",
   "execution_count": 64,
   "metadata": {},
   "outputs": [
    {
     "output_type": "execute_result",
     "data": {
      "text/plain": [
       "8084"
      ]
     },
     "metadata": {},
     "execution_count": 64
    }
   ],
   "source": [
    "len(df.index)"
   ]
  },
  {
   "cell_type": "code",
   "execution_count": 56,
   "metadata": {},
   "outputs": [
    {
     "output_type": "execute_result",
     "data": {
      "text/plain": [
       "True"
      ]
     },
     "metadata": {},
     "execution_count": 56
    }
   ],
   "source": [
    "# player_obj.close_mysql_connection(player_obj.connection)"
   ]
  }
 ]
}